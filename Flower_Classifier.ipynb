{
  "nbformat": 4,
  "nbformat_minor": 0,
  "metadata": {
    "kernelspec": {
      "display_name": "Python 3",
      "language": "python",
      "name": "python3"
    },
    "language_info": {
      "codemirror_mode": {
        "name": "ipython",
        "version": 3
      },
      "file_extension": ".py",
      "mimetype": "text/x-python",
      "name": "python",
      "nbconvert_exporter": "python",
      "pygments_lexer": "ipython3",
      "version": "3.8.5"
    },
    "colab": {
      "name": "Flower_Classifier_TransferLearning.ipynb",
      "provenance": []
    }
  },
  "cells": [
    {
      "cell_type": "code",
      "metadata": {
        "id": "GuklXuc3GMu2",
        "outputId": "171ae39d-571f-469f-d2c2-0ab55d9d374f"
      },
      "source": [
        "import pandas as pd\n",
        "import numpy as np\n",
        "import matplotlib.pyplot as plt\n",
        "import seaborn as sb\n",
        "import sklearn as sk\n",
        "import tensorflow as tf\n",
        "import tensorflow_hub as hub\n",
        "from tensorflow import keras\n",
        "import os\n",
        "import pathlib\n",
        "import cv2\n",
        "import PIL.Image\n",
        "%load_ext tensorboard"
      ],
      "execution_count": null,
      "outputs": [
        {
          "name": "stdout",
          "output_type": "stream",
          "text": [
            "The tensorboard extension is already loaded. To reload it, use:\n",
            "  %reload_ext tensorboard\n"
          ]
        }
      ]
    },
    {
      "cell_type": "code",
      "metadata": {
        "id": "8XXnH2U5GMvX"
      },
      "source": [
        "ds=pathlib.Path(r\"C:\\Users\\Sandy\\.keras\\datasets\\flower_photos\")"
      ],
      "execution_count": null,
      "outputs": []
    },
    {
      "cell_type": "code",
      "metadata": {
        "id": "yCevXNpxGMva"
      },
      "source": [
        "from keras.preprocessing.image import ImageDataGenerator"
      ],
      "execution_count": null,
      "outputs": []
    },
    {
      "cell_type": "code",
      "metadata": {
        "id": "08I7vm0cGMve"
      },
      "source": [
        "train_gen=ImageDataGenerator(rotation_range=30, brightness_range=(0.2, 0.1), zoom_range=0.2, width_shift_range=0.2, height_shift_range=0.2, rescale=1./255)"
      ],
      "execution_count": null,
      "outputs": []
    },
    {
      "cell_type": "code",
      "metadata": {
        "id": "erFpEl7RGMvg"
      },
      "source": [
        "test_gen=ImageDataGenerator(rescale=1./255)"
      ],
      "execution_count": null,
      "outputs": []
    },
    {
      "cell_type": "code",
      "metadata": {
        "id": "BAy_h8qfGMvk"
      },
      "source": [
        "RESIZE=(224, 224)"
      ],
      "execution_count": null,
      "outputs": []
    },
    {
      "cell_type": "code",
      "metadata": {
        "id": "I3A1H6tHGMvn",
        "outputId": "dc148f3d-507e-43d8-9bfa-ca80175c692f"
      },
      "source": [
        "train=train_gen.flow_from_directory(r\"C:\\Users\\Sandy\\.keras\\datasets\\flower_photos\\train\", target_size=RESIZE,\n",
        "        color_mode=\"rgb\",class_mode='categorical')"
      ],
      "execution_count": null,
      "outputs": [
        {
          "name": "stdout",
          "output_type": "stream",
          "text": [
            "Found 3670 images belonging to 5 classes.\n"
          ]
        }
      ]
    },
    {
      "cell_type": "code",
      "metadata": {
        "id": "0m65Pr2dGMvr",
        "outputId": "18e13e9a-7bc4-4855-afe1-0b7825e9052c"
      },
      "source": [
        "test=test_gen.flow_from_directory(r\"C:\\Users\\Sandy\\.keras\\datasets\\flower_photos\\test\", target_size=RESIZE,\n",
        "        color_mode=\"rgb\",class_mode='categorical', shuffle=False)"
      ],
      "execution_count": null,
      "outputs": [
        {
          "name": "stdout",
          "output_type": "stream",
          "text": [
            "Found 100 images belonging to 5 classes.\n"
          ]
        }
      ]
    },
    {
      "cell_type": "code",
      "metadata": {
        "id": "lD0_ppb_GMvv",
        "outputId": "e27df2dc-d47d-44df-cac0-315fd48befaf"
      },
      "source": [
        "train.class_indices"
      ],
      "execution_count": null,
      "outputs": [
        {
          "data": {
            "text/plain": [
              "{'daisy': 0, 'dandelion': 1, 'roses': 2, 'sunflowers': 3, 'tulips': 4}"
            ]
          },
          "execution_count": 9,
          "metadata": {},
          "output_type": "execute_result"
        }
      ]
    },
    {
      "cell_type": "code",
      "metadata": {
        "id": "Cs83fnksGMv6",
        "outputId": "dba1b52e-3b64-474e-c10c-66856ae12854"
      },
      "source": [
        "test.class_indices"
      ],
      "execution_count": null,
      "outputs": [
        {
          "data": {
            "text/plain": [
              "{'daisy': 0, 'dandelion': 1, 'roses': 2, 'sunflowers': 3, 'tulips': 4}"
            ]
          },
          "execution_count": 10,
          "metadata": {},
          "output_type": "execute_result"
        }
      ]
    },
    {
      "cell_type": "code",
      "metadata": {
        "id": "jAW8EDFkGMwR"
      },
      "source": [
        "y_train=train.classes"
      ],
      "execution_count": null,
      "outputs": []
    },
    {
      "cell_type": "code",
      "metadata": {
        "id": "9uJ5dJ8AGMwd",
        "outputId": "27b11222-55b8-47b5-a39b-fb7f0e0ec0ce"
      },
      "source": [
        "len(y_train)"
      ],
      "execution_count": null,
      "outputs": [
        {
          "data": {
            "text/plain": [
              "3670"
            ]
          },
          "execution_count": 69,
          "metadata": {},
          "output_type": "execute_result"
        }
      ]
    },
    {
      "cell_type": "code",
      "metadata": {
        "id": "1zy41McQGMwh"
      },
      "source": [
        "y_test=test.classes"
      ],
      "execution_count": null,
      "outputs": []
    },
    {
      "cell_type": "code",
      "metadata": {
        "id": "0R5kmnCcGMww",
        "outputId": "41d6712b-8239-45a3-f80d-17ed888daf00"
      },
      "source": [
        "len(y_test)"
      ],
      "execution_count": null,
      "outputs": [
        {
          "data": {
            "text/plain": [
              "100"
            ]
          },
          "execution_count": 36,
          "metadata": {},
          "output_type": "execute_result"
        }
      ]
    },
    {
      "cell_type": "code",
      "metadata": {
        "id": "BKkHLG9BGMw4",
        "outputId": "85b68b47-798a-4ac5-9188-0c99b12f993c"
      },
      "source": [
        "train.num_classes"
      ],
      "execution_count": null,
      "outputs": [
        {
          "data": {
            "text/plain": [
              "5"
            ]
          },
          "execution_count": 12,
          "metadata": {},
          "output_type": "execute_result"
        }
      ]
    },
    {
      "cell_type": "code",
      "metadata": {
        "id": "3LxBp06VGMw9",
        "outputId": "7fbfc81c-8df5-461b-f9b9-f0f528e570b9"
      },
      "source": [
        "INPUT=train.image_shape\n",
        "INPUT"
      ],
      "execution_count": null,
      "outputs": [
        {
          "data": {
            "text/plain": [
              "(224, 224, 3)"
            ]
          },
          "execution_count": 11,
          "metadata": {},
          "output_type": "execute_result"
        }
      ]
    },
    {
      "cell_type": "code",
      "metadata": {
        "id": "YL2HwXw5GMxB",
        "outputId": "5b3ea33f-6ed3-48e8-aa1a-943638cd8eec"
      },
      "source": [
        "tf.__version__"
      ],
      "execution_count": null,
      "outputs": [
        {
          "data": {
            "text/plain": [
              "'2.6.0'"
            ]
          },
          "execution_count": 7,
          "metadata": {},
          "output_type": "execute_result"
        }
      ]
    },
    {
      "cell_type": "code",
      "metadata": {
        "id": "-_WA_nU8GMxE"
      },
      "source": [
        "feature_extractor_model = \"https://tfhub.dev/google/tf2-preview/mobilenet_v2/feature_vector/4\"\n",
        "\n",
        "feature_detector_layer = hub.KerasLayer(\n",
        "    feature_extractor_model, input_shape=(224, 224, 3), trainable=False)"
      ],
      "execution_count": null,
      "outputs": []
    },
    {
      "cell_type": "code",
      "metadata": {
        "id": "VmxZwptzGMxG"
      },
      "source": [
        "from keras.models import Sequential\n",
        "from keras.layers import Dense, Conv2D, MaxPool2D, Flatten, Dropout"
      ],
      "execution_count": null,
      "outputs": []
    },
    {
      "cell_type": "code",
      "metadata": {
        "id": "-TI0nqTjGMxJ"
      },
      "source": [
        "model=Sequential()\n",
        "\n",
        "model.add(feature_detector_layer)\n",
        "\n",
        "model.add(Dense(units=5, activation='softmax'))\n",
        "\n",
        "model.compile('adam','categorical_crossentropy',metrics=['accuracy'])"
      ],
      "execution_count": null,
      "outputs": []
    },
    {
      "cell_type": "code",
      "metadata": {
        "id": "5NzBVR7KGMxN",
        "outputId": "2bc3c773-fb97-45f8-ac41-42c8f470186d"
      },
      "source": [
        "model.summary()"
      ],
      "execution_count": null,
      "outputs": [
        {
          "name": "stdout",
          "output_type": "stream",
          "text": [
            "Model: \"sequential\"\n",
            "_________________________________________________________________\n",
            "Layer (type)                 Output Shape              Param #   \n",
            "=================================================================\n",
            "keras_layer_3 (KerasLayer)   (None, 1280)              2257984   \n",
            "_________________________________________________________________\n",
            "dense (Dense)                (None, 5)                 6405      \n",
            "=================================================================\n",
            "Total params: 2,264,389\n",
            "Trainable params: 6,405\n",
            "Non-trainable params: 2,257,984\n",
            "_________________________________________________________________\n"
          ]
        }
      ]
    },
    {
      "cell_type": "code",
      "metadata": {
        "id": "wtTmj7bqGMxO"
      },
      "source": [
        "from keras.callbacks import EarlyStopping, History\n",
        "import datetime\n",
        "\n",
        "stop=EarlyStopping('val_loss', mode='min', patience=2, verbose=1) #early stopping\n",
        "\n",
        "history = History() #history\n",
        "\n",
        "# log_dir = \"C:\\\\Users\\\\Sandy\\\\.keras\\datasets\\\\flower_photos\\\\logs\" + datetime.datetime.now().strftime(\"%Y%m%d-%H%M%S\") #tensorboard\n",
        "# tensorboard_callback = tf.keras.callbacks.TensorBoard(log_dir=log_dir, histogram_freq=1)"
      ],
      "execution_count": null,
      "outputs": []
    },
    {
      "cell_type": "code",
      "metadata": {
        "id": "QzTqtQWUGMxP",
        "outputId": "6babe93d-6aa2-4053-88e9-1397dfe291b2"
      },
      "source": [
        "model.fit(train, epochs=20, callbacks=[stop, history], validation_data=test)"
      ],
      "execution_count": null,
      "outputs": [
        {
          "name": "stdout",
          "output_type": "stream",
          "text": [
            "Epoch 1/20\n",
            "115/115 [==============================] - 532s 4s/step - loss: 0.9378 - accuracy: 0.6338 - val_loss: 0.7751 - val_accuracy: 0.6800\n",
            "Epoch 2/20\n",
            "115/115 [==============================] - 455s 4s/step - loss: 0.5848 - accuracy: 0.7804 - val_loss: 0.5325 - val_accuracy: 0.7600\n",
            "Epoch 3/20\n",
            "115/115 [==============================] - 590s 5s/step - loss: 0.5132 - accuracy: 0.8106 - val_loss: 0.4615 - val_accuracy: 0.8800\n",
            "Epoch 4/20\n",
            "115/115 [==============================] - 497s 4s/step - loss: 0.4773 - accuracy: 0.8243 - val_loss: 0.3992 - val_accuracy: 0.8200\n",
            "Epoch 5/20\n",
            "115/115 [==============================] - 544s 5s/step - loss: 0.4649 - accuracy: 0.8335 - val_loss: 0.4127 - val_accuracy: 0.8500\n",
            "Epoch 6/20\n",
            "115/115 [==============================] - 422s 4s/step - loss: 0.4219 - accuracy: 0.8447 - val_loss: 0.3538 - val_accuracy: 0.8900\n",
            "Epoch 7/20\n",
            "115/115 [==============================] - 549s 5s/step - loss: 0.4129 - accuracy: 0.8548 - val_loss: 0.3457 - val_accuracy: 0.8600\n",
            "Epoch 8/20\n",
            "115/115 [==============================] - 538s 5s/step - loss: 0.4017 - accuracy: 0.8550 - val_loss: 0.3699 - val_accuracy: 0.8800\n",
            "Epoch 9/20\n",
            "115/115 [==============================] - 502s 4s/step - loss: 0.3772 - accuracy: 0.8613 - val_loss: 0.3795 - val_accuracy: 0.8400\n",
            "Epoch 00009: early stopping\n"
          ]
        },
        {
          "data": {
            "text/plain": [
              "<keras.callbacks.History at 0x6c8a9e71f0>"
            ]
          },
          "execution_count": 41,
          "metadata": {},
          "output_type": "execute_result"
        }
      ]
    },
    {
      "cell_type": "code",
      "metadata": {
        "id": "eeIhWaohGMxR"
      },
      "source": [
        ""
      ],
      "execution_count": null,
      "outputs": []
    },
    {
      "cell_type": "code",
      "metadata": {
        "id": "AyMa1B-3GMxT",
        "outputId": "2da09ac3-864c-44b6-f363-c8df11586b8a"
      },
      "source": [
        "metrics=pd.DataFrame(model.history.history)\n",
        "metrics[['loss', 'val_loss']].plot()"
      ],
      "execution_count": null,
      "outputs": [
        {
          "data": {
            "text/plain": [
              "<AxesSubplot:>"
            ]
          },
          "execution_count": 42,
          "metadata": {},
          "output_type": "execute_result"
        },
        {
          "data": {
            "image/png": "[encoded data removed]",
            "text/plain": [
              "<Figure size 432x288 with 1 Axes>"
            ]
          },
          "metadata": {
            "needs_background": "light"
          },
          "output_type": "display_data"
        }
      ]
    },
    {
      "cell_type": "code",
      "metadata": {
        "id": "dYdLX7bwGMxU",
        "outputId": "adc08111-93a7-4de0-976c-b2f5590ebe83"
      },
      "source": [
        "model.evaluate(test)"
      ],
      "execution_count": null,
      "outputs": [
        {
          "name": "stdout",
          "output_type": "stream",
          "text": [
            "4/4 [==============================] - 9s 2s/step - loss: 0.3795 - accuracy: 0.8400\n"
          ]
        },
        {
          "data": {
            "text/plain": [
              "[0.3794509470462799, 0.8399999737739563]"
            ]
          },
          "execution_count": 43,
          "metadata": {},
          "output_type": "execute_result"
        }
      ]
    },
    {
      "cell_type": "code",
      "metadata": {
        "id": "HEy4MBPmGMxX"
      },
      "source": [
        "y_pred=model.predict(test)"
      ],
      "execution_count": null,
      "outputs": []
    },
    {
      "cell_type": "code",
      "metadata": {
        "id": "VBt9LvCTGMxZ"
      },
      "source": [
        ""
      ],
      "execution_count": null,
      "outputs": []
    },
    {
      "cell_type": "code",
      "metadata": {
        "id": "tNRv945fGMxa"
      },
      "source": [
        "real_pred=[]\n",
        "for i in range(len(y_pred+1)):\n",
        "    real_pred.append(np.argmax(y_pred[i]))"
      ],
      "execution_count": null,
      "outputs": []
    },
    {
      "cell_type": "code",
      "metadata": {
        "id": "lYPamDAqGMxb",
        "outputId": "01110eee-2bb8-40a9-9608-14b7afcf2dac"
      },
      "source": [
        "real_pred=np.array(real_pred)\n",
        "real_pred\n",
        "train.class_indices"
      ],
      "execution_count": null,
      "outputs": [
        {
          "data": {
            "text/plain": [
              "{'daisy': 0, 'dandelion': 1, 'roses': 2, 'sunflowers': 3, 'tulips': 4}"
            ]
          },
          "execution_count": 46,
          "metadata": {},
          "output_type": "execute_result"
        }
      ]
    },
    {
      "cell_type": "code",
      "metadata": {
        "id": "a5dtIktaGMxc"
      },
      "source": [
        "label={0:'daisy', 1:'dandelion', 2:'roses', 3:'sunflowers', 4:'tulips'}"
      ],
      "execution_count": null,
      "outputs": []
    },
    {
      "cell_type": "code",
      "metadata": {
        "id": "a-afp6F2GMxd",
        "outputId": "2c257771-a6ba-43c3-db9f-d2d87df23890"
      },
      "source": [
        "test.classes"
      ],
      "execution_count": null,
      "outputs": [
        {
          "data": {
            "text/plain": [
              "array([0, 0, 0, 0, 0, 0, 0, 0, 0, 0, 0, 0, 0, 0, 0, 0, 0, 0, 0, 0, 1, 1,\n",
              "       1, 1, 1, 1, 1, 1, 1, 1, 1, 1, 1, 1, 1, 1, 1, 1, 1, 1, 2, 2, 2, 2,\n",
              "       2, 2, 2, 2, 2, 2, 2, 2, 2, 2, 2, 2, 2, 2, 2, 2, 3, 3, 3, 3, 3, 3,\n",
              "       3, 3, 3, 3, 3, 3, 3, 3, 3, 3, 3, 3, 3, 3, 4, 4, 4, 4, 4, 4, 4, 4,\n",
              "       4, 4, 4, 4, 4, 4, 4, 4, 4, 4, 4, 4])"
            ]
          },
          "execution_count": 48,
          "metadata": {},
          "output_type": "execute_result"
        }
      ]
    },
    {
      "cell_type": "code",
      "metadata": {
        "id": "fOkFCtRsGMxe",
        "outputId": "23c03b45-7175-484f-d239-b4571fd30a3c"
      },
      "source": [
        "len(real_pred)"
      ],
      "execution_count": null,
      "outputs": [
        {
          "data": {
            "text/plain": [
              "100"
            ]
          },
          "execution_count": 49,
          "metadata": {},
          "output_type": "execute_result"
        }
      ]
    },
    {
      "cell_type": "code",
      "metadata": {
        "id": "eR1Mpo33GMxg"
      },
      "source": [
        "real_pred_lab=[]\n",
        "for p in real_pred:\n",
        "    real_pred_lab.append(label[p])"
      ],
      "execution_count": null,
      "outputs": []
    },
    {
      "cell_type": "code",
      "metadata": {
        "scrolled": true,
        "id": "yD_Q4WpkGMxj",
        "outputId": "07bb1d86-d193-4150-fab3-e501c207daf1"
      },
      "source": [
        "y_pred[0]"
      ],
      "execution_count": null,
      "outputs": [
        {
          "data": {
            "text/plain": [
              "array([3.4718670e-02, 8.8412242e-05, 2.3981960e-07, 9.6518642e-01,\n",
              "       6.3701264e-06], dtype=float32)"
            ]
          },
          "execution_count": 57,
          "metadata": {},
          "output_type": "execute_result"
        }
      ]
    },
    {
      "cell_type": "code",
      "metadata": {
        "id": "oHOYDEd4GMxl",
        "outputId": "0fd2e133-43e9-40b5-a76c-09ade2095edb"
      },
      "source": [
        "from sklearn.metrics import confusion_matrix\n",
        "confusion_matrix(test.classes, real_pred)"
      ],
      "execution_count": null,
      "outputs": [
        {
          "data": {
            "text/plain": [
              "array([[20,  0,  0,  0,  0],\n",
              "       [ 1, 14,  0,  4,  1],\n",
              "       [ 0,  0, 17,  0,  3],\n",
              "       [ 1,  1,  0, 17,  1],\n",
              "       [ 3,  0,  1,  0, 16]], dtype=int64)"
            ]
          },
          "execution_count": 52,
          "metadata": {},
          "output_type": "execute_result"
        }
      ]
    },
    {
      "cell_type": "code",
      "metadata": {
        "id": "Nv3H1k5uGMxn"
      },
      "source": [
        "from sklearn.metrics import classification_report"
      ],
      "execution_count": null,
      "outputs": []
    },
    {
      "cell_type": "code",
      "metadata": {
        "id": "VKLH4zi1GMxq",
        "outputId": "9db31432-4e29-44cf-b602-65620f8d748f"
      },
      "source": [
        "print(classification_report(test.classes, real_pred))"
      ],
      "execution_count": null,
      "outputs": [
        {
          "name": "stdout",
          "output_type": "stream",
          "text": [
            "              precision    recall  f1-score   support\n",
            "\n",
            "           0       0.80      1.00      0.89        20\n",
            "           1       0.93      0.70      0.80        20\n",
            "           2       0.94      0.85      0.89        20\n",
            "           3       0.81      0.85      0.83        20\n",
            "           4       0.76      0.80      0.78        20\n",
            "\n",
            "    accuracy                           0.84       100\n",
            "   macro avg       0.85      0.84      0.84       100\n",
            "weighted avg       0.85      0.84      0.84       100\n",
            "\n"
          ]
        }
      ]
    },
    {
      "cell_type": "code",
      "metadata": {
        "id": "zEbNd3-uGMxr"
      },
      "source": [
        ""
      ],
      "execution_count": null,
      "outputs": []
    },
    {
      "cell_type": "code",
      "metadata": {
        "id": "xYjWCknIGMxs"
      },
      "source": [
        "def predict(url, resize, true_labels):\n",
        "    img_arr=plt.imread(url)\n",
        "    img=cv2.resize(img_arr, resize)\n",
        "    plt.axis('off')\n",
        "    plt.imshow(img_arr)\n",
        "    img=np.expand_dims(img, axis=0)\n",
        "    prediction=true_labels[np.argmax(model.predict(img))]\n",
        "    return f\"======> {prediction.upper()} <======\""
      ],
      "execution_count": null,
      "outputs": []
    },
    {
      "cell_type": "code",
      "metadata": {
        "scrolled": true,
        "id": "JfNvi7TCGMxt",
        "outputId": "b5f2f956-19b3-43cd-a9d1-a6ec38246483"
      },
      "source": [
        "predict(r\"C:\\Users\\Sandy\\Desktop\\download_1.jpg\", (224, 224), label)"
      ],
      "execution_count": null,
      "outputs": [
        {
          "data": {
            "text/plain": [
              "'======> TULIPS <======'"
            ]
          },
          "execution_count": 85,
          "metadata": {},
          "output_type": "execute_result"
        },
        {
          "data": {
            "image/png": "[encoded data removed]",
            "text/plain": [
              "<Figure size 432x288 with 1 Axes>"
            ]
          },
          "metadata": {
            "needs_background": "light"
          },
          "output_type": "display_data"
        }
      ]
    },
    {
      "cell_type": "code",
      "metadata": {
        "id": "H369nx6ZGMxu",
        "outputId": "92c26fcf-8932-4b0a-a246-5801414d9e0a"
      },
      "source": [
        "tf.keras.models.save_model(model, r\"C:\\Users\\Sandy\\Downloads\\Train_Models\", overwrite=True, include_optimizer=True, save_format=\"tf\")"
      ],
      "execution_count": null,
      "outputs": [
        {
          "name": "stdout",
          "output_type": "stream",
          "text": [
            "INFO:tensorflow:Assets written to: C:\\Users\\Sandy\\Downloads\\Train_Models\\assets\n"
          ]
        },
        {
          "name": "stderr",
          "output_type": "stream",
          "text": [
            "INFO:tensorflow:Assets written to: C:\\Users\\Sandy\\Downloads\\Train_Models\\assets\n"
          ]
        }
      ]
    },
    {
      "cell_type": "code",
      "metadata": {
        "id": "hfC2aMiHGMxv"
      },
      "source": [
        "model=tf.keras.models.load_model(r\"C:\\Users\\Sandy\\Downloads\\Train_Models\")"
      ],
      "execution_count": null,
      "outputs": []
    },
    {
      "cell_type": "code",
      "metadata": {
        "id": "3SmDee3GGMxw",
        "outputId": "0af07259-8a82-418e-a828-8517539e0ca6"
      },
      "source": [
        "model.summary()"
      ],
      "execution_count": null,
      "outputs": [
        {
          "name": "stdout",
          "output_type": "stream",
          "text": [
            "Model: \"sequential_2\"\n",
            "_________________________________________________________________\n",
            "Layer (type)                 Output Shape              Param #   \n",
            "=================================================================\n",
            "keras_layer_7 (KerasLayer)   (None, 1280)              2257984   \n",
            "_________________________________________________________________\n",
            "dense_1 (Dense)              (None, 5)                 6405      \n",
            "=================================================================\n",
            "Total params: 2,264,389\n",
            "Trainable params: 6,405\n",
            "Non-trainable params: 2,257,984\n",
            "_________________________________________________________________\n"
          ]
        }
      ]
    },
    {
      "cell_type": "code",
      "metadata": {
        "id": "She2tsT6GMxw"
      },
      "source": [
        ""
      ],
      "execution_count": null,
      "outputs": []
    }
  ]
}